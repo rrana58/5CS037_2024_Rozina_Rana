{
  "nbformat": 4,
  "nbformat_minor": 0,
  "metadata": {
    "colab": {
      "provenance": []
    },
    "kernelspec": {
      "name": "python3",
      "display_name": "Python 3"
    },
    "language_info": {
      "name": "python"
    }
  },
  "cells": [
    {
      "cell_type": "markdown",
      "source": [
        "3.1 Basic Inspection and Exploration:\n",
        "\n",
        "Problem 1 - Data Read, Write and Inspect:\n",
        "\n",
        "Load the provided dataset and import in pandas DataFrame.\n",
        "2. Check info of the DataFrame and identify following:\n",
        "(a) columns with dtypes=object\n",
        "(b) unique values of those columns.\n",
        "(c) check for the total number of null values in each column.\n",
        "3. Drop all the columns with dtypes object and store in new DataFrame, also write the DataFrame in\n",
        "”.csv” with name ”banknumericdata.csv”\n",
        "4. Read ”banknumericdata.csv” and Find the summary statistics."
      ],
      "metadata": {
        "id": "J8GA3RabC3UF"
      }
    },
    {
      "cell_type": "code",
      "source": [
        "import pandas as pd\n",
        "\n",
        "df = pd.read_csv('/content/drive/MyDrive/Datasets/bank .csv')\n",
        "\n",
        "object_columns = df.select_dtypes(include='object').columns\n",
        "print(\"Columns with dtype 'object':\")\n",
        "print(object_columns)\n",
        "\n",
        "for col in object_columns:\n",
        "    print(f\"Unique values in '{col}':\")\n",
        "    print(df[col].unique())\n",
        "\n",
        "null_values = df.isnull().sum()\n",
        "print(\"Null values in each column:\")\n",
        "print(null_values)\n",
        "\n",
        "df_numeric = df.drop(columns=object_columns)\n",
        "\n",
        "df_numeric.to_csv('banknumericdata.csv', index=False)\n",
        "print(\"banknumericdata.csv file has been saved.\")\n",
        "\n",
        "df_numeric_loaded = pd.read_csv('banknumericdata.csv')\n",
        "\n",
        "summary_statistics = df_numeric_loaded.describe()\n",
        "print(\"Summary statistics of the numeric DataFrame:\")\n",
        "print(summary_statistics)\n"
      ],
      "metadata": {
        "colab": {
          "base_uri": "https://localhost:8080/"
        },
        "id": "G6RcAQhiG8AM",
        "outputId": "57b0d49d-aec2-4b9d-d73b-38b3de4031ce"
      },
      "execution_count": null,
      "outputs": [
        {
          "output_type": "stream",
          "name": "stdout",
          "text": [
            "Columns with dtype 'object':\n",
            "Index(['job', 'marital', 'education', 'default', 'housing', 'loan', 'contact',\n",
            "       'month', 'poutcome', 'y'],\n",
            "      dtype='object')\n",
            "Unique values in 'job':\n",
            "['management' 'technician' 'entrepreneur' 'blue-collar' 'unknown'\n",
            " 'retired' 'admin.' 'services' 'self-employed' 'unemployed' 'housemaid'\n",
            " 'student']\n",
            "Unique values in 'marital':\n",
            "['married' 'single' 'divorced']\n",
            "Unique values in 'education':\n",
            "['tertiary' 'secondary' 'unknown' 'primary']\n",
            "Unique values in 'default':\n",
            "['no' 'yes']\n",
            "Unique values in 'housing':\n",
            "['yes' 'no']\n",
            "Unique values in 'loan':\n",
            "['no' 'yes']\n",
            "Unique values in 'contact':\n",
            "['unknown' 'cellular' 'telephone']\n",
            "Unique values in 'month':\n",
            "['may' 'jun' 'jul' 'aug' 'oct' 'nov' 'dec' 'jan' 'feb' 'mar' 'apr' 'sep']\n",
            "Unique values in 'poutcome':\n",
            "['unknown' 'failure' 'other' 'success']\n",
            "Unique values in 'y':\n",
            "['no' 'yes']\n",
            "Null values in each column:\n",
            "age          0\n",
            "job          0\n",
            "marital      0\n",
            "education    0\n",
            "default      0\n",
            "balance      0\n",
            "housing      0\n",
            "loan         0\n",
            "contact      0\n",
            "day          0\n",
            "month        0\n",
            "duration     0\n",
            "campaign     0\n",
            "pdays        0\n",
            "previous     0\n",
            "poutcome     0\n",
            "y            0\n",
            "dtype: int64\n",
            "banknumericdata.csv file has been saved.\n",
            "Summary statistics of the numeric DataFrame:\n",
            "                age        balance           day      duration      campaign  \\\n",
            "count  45211.000000   45211.000000  45211.000000  45211.000000  45211.000000   \n",
            "mean      40.936210    1362.272058     15.806419    258.163080      2.763841   \n",
            "std       10.618762    3044.765829      8.322476    257.527812      3.098021   \n",
            "min       18.000000   -8019.000000      1.000000      0.000000      1.000000   \n",
            "25%       33.000000      72.000000      8.000000    103.000000      1.000000   \n",
            "50%       39.000000     448.000000     16.000000    180.000000      2.000000   \n",
            "75%       48.000000    1428.000000     21.000000    319.000000      3.000000   \n",
            "max       95.000000  102127.000000     31.000000   4918.000000     63.000000   \n",
            "\n",
            "              pdays      previous  \n",
            "count  45211.000000  45211.000000  \n",
            "mean      40.197828      0.580323  \n",
            "std      100.128746      2.303441  \n",
            "min       -1.000000      0.000000  \n",
            "25%       -1.000000      0.000000  \n",
            "50%       -1.000000      0.000000  \n",
            "75%       -1.000000      0.000000  \n",
            "max      871.000000    275.000000  \n"
          ]
        }
      ]
    },
    {
      "cell_type": "markdown",
      "source": [
        "Problem 2- Data Imputations:\n",
        "Dataset for the Task: \"medical_student.csv\"\n",
        "1. Load the provided dataset and import in pandas DataFrame.\n",
        "2. Check info of the DataFrame and identify column with missing (null) values.\n",
        "3. For the column with missing values fill the values using various techniques we discussed above. Try\n",
        "to explain why did you select the particular methods for particular column.\n",
        "4. Check for any duplicate values present in Dataset and do necessary to manage the duplicate items.\n",
        "{Hint: dataset.duplicated.sum()}"
      ],
      "metadata": {
        "id": "GJnJzUcJHwM-"
      }
    },
    {
      "cell_type": "code",
      "source": [
        "import pandas as pd\n",
        "\n",
        "df = pd.read_csv('/content/drive/MyDrive/Datasets/medical_students_dataset.csv')\n",
        "\n",
        "# Displaying the structure of the DataFrame, including the number of rows, columns, and the data type of each column\n",
        "print(\"DataFrame Information:\")\n",
        "df_info = df.info()  # Get summary of DataFrame structure (column names, non-null counts, data types)\n",
        "\n",
        "# Checking for missing values in each column of the DataFrame\n",
        "missing_values = df.isnull().sum()  # Count the number of missing (NaN) values in each column\n",
        "print(\"\\nMissing values in each column:\")\n",
        "print(missing_values)  # Display the count of missing values for each column\n",
        "\n",
        "# If the 'Age' column exists in the DataFrame\n",
        "if 'Age' in df.columns:\n",
        "    # Fill missing values in the 'Age' column with the median of the column\n",
        "    df['Age'] = df['Age'].fillna(df['Age'].median())\n",
        "    print(\"\\nMissing 'Age' values filled with median.\")  # Inform the user that missing 'Age' values were filled\n",
        "\n",
        "# If the 'Gender' column exists in the DataFrame\n",
        "if 'Gender' in df.columns:\n",
        "    # Fill missing values in the 'Gender' column with the mode (most frequent value) of the column\n",
        "    df['Gender'] = df['Gender'].fillna(df['Gender'].mode()[0])\n",
        "    print(\"\\nMissing 'Gender' values filled with mode (most frequent value).\")  # Inform the user that missing 'Gender' values were filled\n"
      ],
      "metadata": {
        "colab": {
          "base_uri": "https://localhost:8080/"
        },
        "id": "1COiuA8hH4zw",
        "outputId": "946efc7b-0177-4cf2-db38-c6eb706c0fb8"
      },
      "execution_count": 10,
      "outputs": [
        {
          "output_type": "stream",
          "name": "stdout",
          "text": [
            "DataFrame Information:\n",
            "<class 'pandas.core.frame.DataFrame'>\n",
            "RangeIndex: 200000 entries, 0 to 199999\n",
            "Data columns (total 13 columns):\n",
            " #   Column          Non-Null Count   Dtype  \n",
            "---  ------          --------------   -----  \n",
            " 0   Student ID      180000 non-null  float64\n",
            " 1   Age             180000 non-null  float64\n",
            " 2   Gender          180000 non-null  object \n",
            " 3   Height          180000 non-null  float64\n",
            " 4   Weight          180000 non-null  float64\n",
            " 5   Blood Type      180000 non-null  object \n",
            " 6   BMI             180000 non-null  float64\n",
            " 7   Temperature     180000 non-null  float64\n",
            " 8   Heart Rate      180000 non-null  float64\n",
            " 9   Blood Pressure  180000 non-null  float64\n",
            " 10  Cholesterol     180000 non-null  float64\n",
            " 11  Diabetes        180000 non-null  object \n",
            " 12  Smoking         180000 non-null  object \n",
            "dtypes: float64(9), object(4)\n",
            "memory usage: 19.8+ MB\n",
            "\n",
            "Missing values in each column:\n",
            "Student ID        20000\n",
            "Age               20000\n",
            "Gender            20000\n",
            "Height            20000\n",
            "Weight            20000\n",
            "Blood Type        20000\n",
            "BMI               20000\n",
            "Temperature       20000\n",
            "Heart Rate        20000\n",
            "Blood Pressure    20000\n",
            "Cholesterol       20000\n",
            "Diabetes          20000\n",
            "Smoking           20000\n",
            "dtype: int64\n",
            "\n",
            "Missing 'Age' values filled with median.\n",
            "\n",
            "Missing 'Gender' values filled with mode (most frequent value).\n"
          ]
        }
      ]
    },
    {
      "cell_type": "markdown",
      "source": [
        "3.2 Exercises - Data Cleaning and Transformations with ”Titanic Dataset”\n",
        "Problem - 1:\n",
        "Create a DataFrame that is subsetted for the columns 'Name', 'Pclass', 'Sex', 'Age', 'Fare', and 'Survived'.\n",
        "Retain only those rows where 'Pclass' is equal to 1, representing first-class passengers. What is the mean,\n",
        "median, maximum value, and minimum value of the 'Fare' column?"
      ],
      "metadata": {
        "id": "lstKcuTAIIIg"
      }
    },
    {
      "cell_type": "code",
      "source": [
        "import pandas as pd\n",
        "\n",
        "\n",
        "df = pd.read_csv('/content/drive/MyDrive/Datasets/Titanic-Dataset.csv')\n",
        "\n",
        "columns_of_interest = ['Name', 'Pclass', 'Sex', 'Age', 'Fare', 'Survived']\n",
        "df_subset = df[columns_of_interest]\n",
        "\n",
        "df_first_class = df_subset[df_subset['Pclass'] == 1]\n",
        "\n",
        "mean_fare = df_first_class['Fare'].mean()\n",
        "median_fare = df_first_class['Fare'].median()\n",
        "max_fare = df_first_class['Fare'].max()\n",
        "min_fare = df_first_class['Fare'].min()\n",
        "\n",
        "print(\"Statistics for 'Fare' column (first-class passengers):\")\n",
        "print(f\"Mean Fare: {mean_fare}\")\n",
        "print(f\"Median Fare: {median_fare}\")\n",
        "print(f\"Maximum Fare: {max_fare}\")\n",
        "print(f\"Minimum Fare: {min_fare}\")\n"
      ],
      "metadata": {
        "colab": {
          "base_uri": "https://localhost:8080/"
        },
        "id": "EiW0AOz-IkZS",
        "outputId": "8afd4a7d-179e-4504-85da-6e6272c0e527"
      },
      "execution_count": null,
      "outputs": [
        {
          "output_type": "stream",
          "name": "stdout",
          "text": [
            "Statistics for 'Fare' column (first-class passengers):\n",
            "Mean Fare: 84.1546875\n",
            "Median Fare: 60.287499999999994\n",
            "Maximum Fare: 512.3292\n",
            "Minimum Fare: 0.0\n"
          ]
        }
      ]
    },
    {
      "cell_type": "markdown",
      "source": [
        "Problem - 2:\n",
        "How many null values are contained in the ’Age’ column in your subsetted DataFrame? Once you’ve found\n",
        "this out, drop them from your DataFrame."
      ],
      "metadata": {
        "id": "yY52PhKMKQ0s"
      }
    },
    {
      "cell_type": "code",
      "source": [
        "import pandas as pd\n",
        "\n",
        "df = pd.read_csv('/content/drive/MyDrive/Datasets/Titanic-Dataset.csv')\n",
        "\n",
        "columns_of_interest = ['Name', 'Pclass', 'Sex', 'Age', 'Fare', 'Survived']\n",
        "df_subset = df[columns_of_interest]\n",
        "\n",
        "\n",
        "df_first_class = df_subset[df_subset['Pclass'] == 1]\n",
        "\n",
        "\n",
        "null_values_in_age = df_first_class['Age'].isnull().sum()\n",
        "print(f\"Number of null values in 'Age' column: {null_values_in_age}\")\n",
        "\n",
        "df_first_class_cleaned = df_first_class.dropna(subset=['Age'])\n",
        "\n",
        "null_values_after_dropping = df_first_class_cleaned['Age'].isnull().sum()\n",
        "print(f\"Number of null values in 'Age' column after dropping: {null_values_after_dropping}\")\n"
      ],
      "metadata": {
        "colab": {
          "base_uri": "https://localhost:8080/"
        },
        "id": "j0KMvZawKWH2",
        "outputId": "b9270973-20ce-43df-9f8b-4558a115b1ae"
      },
      "execution_count": null,
      "outputs": [
        {
          "output_type": "stream",
          "name": "stdout",
          "text": [
            "Number of null values in 'Age' column: 30\n",
            "Number of null values in 'Age' column after dropping: 0\n"
          ]
        }
      ]
    },
    {
      "cell_type": "markdown",
      "source": [
        "Problem-3:\n",
        "1. Use one-hot encoding to convert the ’Embarked’ column into separate binary columns (’Embarked C’,\n",
        "’Embarked Q’, ’Embarked S’).\n",
        "2. Add these new columns to the original DataFrame.\n",
        "3. Drop the original ’Embarked’ column.\n",
        "4. Print the first few rows of the modified DataFrame to verify the changes."
      ],
      "metadata": {
        "id": "LDHQd_OyK6u5"
      }
    },
    {
      "cell_type": "code",
      "source": [
        "import pandas as pd\n",
        "\n",
        "df = pd.read_csv('/content/drive/MyDrive/Datasets/Titanic-Dataset.csv')\n",
        "df_encoded = pd.get_dummies(df['Embarked'], prefix='Embarked', drop_first=False)\n",
        "\n",
        "df = pd.concat([df, df_encoded], axis=1)\n",
        "\n",
        "\n",
        "df = df.drop('Embarked', axis=1)\n",
        "\n",
        "\n",
        "print(df.head())\n"
      ],
      "metadata": {
        "colab": {
          "base_uri": "https://localhost:8080/"
        },
        "id": "fEhS9pz6LGmY",
        "outputId": "69e71581-5bb4-4bf2-eb17-34be4300c7e6"
      },
      "execution_count": null,
      "outputs": [
        {
          "output_type": "stream",
          "name": "stdout",
          "text": [
            "   PassengerId  Survived  Pclass  \\\n",
            "0            1         0       3   \n",
            "1            2         1       1   \n",
            "2            3         1       3   \n",
            "3            4         1       1   \n",
            "4            5         0       3   \n",
            "\n",
            "                                                Name     Sex   Age  SibSp  \\\n",
            "0                            Braund, Mr. Owen Harris    male  22.0      1   \n",
            "1  Cumings, Mrs. John Bradley (Florence Briggs Th...  female  38.0      1   \n",
            "2                             Heikkinen, Miss. Laina  female  26.0      0   \n",
            "3       Futrelle, Mrs. Jacques Heath (Lily May Peel)  female  35.0      1   \n",
            "4                           Allen, Mr. William Henry    male  35.0      0   \n",
            "\n",
            "   Parch            Ticket     Fare Cabin  Embarked_C  Embarked_Q  Embarked_S  \n",
            "0      0         A/5 21171   7.2500   NaN       False       False        True  \n",
            "1      0          PC 17599  71.2833   C85        True       False       False  \n",
            "2      0  STON/O2. 3101282   7.9250   NaN       False       False        True  \n",
            "3      0            113803  53.1000  C123       False       False        True  \n",
            "4      0            373450   8.0500   NaN       False       False        True  \n"
          ]
        }
      ]
    },
    {
      "cell_type": "markdown",
      "source": [
        "Problem - 4:\n",
        "\n",
        "Compare the mean survival rates (’Survived’) for the different groups in the ’Sex’ column. Draw a visual-\n",
        "ization to show how the survival distributions vary by gender."
      ],
      "metadata": {
        "id": "qcrMIiVlLs6r"
      }
    },
    {
      "cell_type": "code",
      "source": [
        "\n",
        "import pandas as pd\n",
        "import matplotlib.pyplot as plt\n",
        "df = pd.read_csv(\"/content/drive/MyDrive/Datasets/Titanic-Dataset.csv\")\n",
        "meansurvival_by_gender=df.groupby('Sex')['Survived'].mean()\n",
        "print(meansurvival_by_gender)\n",
        "plt.figure(figsize=(6, 4))\n",
        "meansurvival_by_gender.plot(kind='bar',color=['blue','pink'])\n",
        "plt.title('mean survival rate by gender')\n",
        "plt.xlabel('gender')\n",
        "plt.ylabel('mean survival rate')\n",
        "plt.xticks(rotation=0)\n",
        "plt.show()\n"
      ],
      "metadata": {
        "colab": {
          "base_uri": "https://localhost:8080/",
          "height": 479
        },
        "id": "TR_P3SZsMIuk",
        "outputId": "68ad4a08-5dee-4c57-d78f-33a82fffefd3"
      },
      "execution_count": null,
      "outputs": [
        {
          "output_type": "stream",
          "name": "stdout",
          "text": [
            "Sex\n",
            "female    0.742038\n",
            "male      0.188908\n",
            "Name: Survived, dtype: float64\n"
          ]
        },
        {
          "output_type": "display_data",
          "data": {
            "text/plain": [
              "<Figure size 600x400 with 1 Axes>"
            ],
            "image/png": "[encoded data removed]"
          },
          "metadata": {}
        }
      ]
    },
    {
      "cell_type": "markdown",
      "source": [
        "Problem-5\n",
        "\n",
        "Draw a visualization that breaks your visualization from Exercise 3 down by the port of embarkation (’Em-\n",
        "barked’). In this instance, compare the ports ’C’ (Cherbourg), ’Q’ (Queenstown), and ’S’ (Southampton)."
      ],
      "metadata": {
        "id": "Co5V4_cmPbL-"
      }
    },
    {
      "cell_type": "code",
      "source": [
        "import pandas as pd\n",
        "import seaborn as sns\n",
        "import matplotlib.pyplot as plt\n",
        "\n",
        "file_path = \"/content/drive/MyDrive/Datasets/Titanic-Dataset.csv\"\n",
        "df = pd.read_csv(file_path)\n",
        "\n",
        "plt.figure(figsize=(10, 6))\n",
        "sns.barplot(data=df, x='Sex', y='Survived', hue='Embarked', ci=None, palette=\"pastel\")\n",
        "plt.title(\"Mean Survival Rates by Gender and Port of Embarkation\", fontsize=14)\n",
        "plt.xlabel(\"Gender\", fontsize=12)\n",
        "plt.ylabel(\"Mean Survival Rate\", fontsize=12)\n",
        "plt.legend(title=\"Port of Embarkation\", labels=['Cherbourg (C)', 'Queenstown (Q)', 'Southampton (S)'])\n",
        "plt.show()"
      ],
      "metadata": {
        "colab": {
          "base_uri": "https://localhost:8080/",
          "height": 656
        },
        "id": "2PqOH3L4Pm51",
        "outputId": "78d77c9d-00c3-41ad-8b5b-5da61008df61"
      },
      "execution_count": null,
      "outputs": [
        {
          "output_type": "stream",
          "name": "stderr",
          "text": [
            "<ipython-input-9-f1e3bd893801>:9: FutureWarning: \n",
            "\n",
            "The `ci` parameter is deprecated. Use `errorbar=None` for the same effect.\n",
            "\n",
            "  sns.barplot(data=df, x='Sex', y='Survived', hue='Embarked', ci=None, palette=\"pastel\")\n"
          ]
        },
        {
          "output_type": "display_data",
          "data": {
            "text/plain": [
              "<Figure size 1000x600 with 1 Axes>"
            ],
            "image/png": "[encoded data removed]"
          },
          "metadata": {}
        }
      ]
    }
  ]
}
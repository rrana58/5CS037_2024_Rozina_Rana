{
  "nbformat": 4,
  "nbformat_minor": 0,
  "metadata": {
    "colab": {
      "provenance": []
    },
    "kernelspec": {
      "name": "python3",
      "display_name": "Python 3"
    },
    "language_info": {
      "name": "python"
    }
  },
  "cells": [
    {
      "cell_type": "markdown",
      "source": [
        "Problem 1 - Sorting:\n",
        "1. Create a DataFrame called fare that contains only the Fare column of the Titanic dataset. Print the\n",
        "head of the result.\n",
        "2. Create a DataFrame called class age that contains only the Pclass and Age columns of the Titanic\n",
        "dataset, in that order. Print the head of the result.\n",
        "3. Create a DataFrame called survived gender that contains the Survived and Sex columns of the\n",
        "Titanic dataset, in that order.Print the head of the result."
      ],
      "metadata": {
        "id": "JtS4pcIJ21KS"
      }
    },
    {
      "cell_type": "code",
      "source": [
        "import pandas as pd\n",
        "\n",
        "# Load the Titanic dataset\n",
        "df = pd.read_csv('/content/drive/MyDrive/Datasets/Titanic-Dataset.csv')\n",
        "\n",
        "# 1. Create a DataFrame called 'fare' containing only the Fare column\n",
        "fare = df[['Fare']]\n",
        "print(\"Fare DataFrame:\")\n",
        "print(fare.head())  # Print the first 5 rows\n",
        "\n",
        "# Sort the 'fare' DataFrame in descending order based on Fare\n",
        "fare_sorted = fare.sort_values(by='Fare', ascending=False)\n",
        "print(\"\\nSorted Fare DataFrame (Descending Order):\")\n",
        "print(fare_sorted.head())\n",
        "\n",
        "# 2. Create a DataFrame called 'class_age' containing only the Pclass and Age columns in that order\n",
        "class_age = df[['Pclass', 'Age']]\n",
        "print(\"\\nClass and Age DataFrame:\")\n",
        "print(class_age.head())  # Print the first 5 rows\n",
        "\n",
        "# Sort the 'class_age' DataFrame by Age in ascending order\n",
        "class_age_sorted = class_age.sort_values(by='Age', ascending=True)\n",
        "print(\"\\nSorted Class and Age DataFrame (By Age Ascending):\")\n",
        "print(class_age_sorted.head())\n",
        "\n",
        "# 3. Create a DataFrame called 'survived_gender' containing only the Survived and Sex columns in that order\n",
        "survived_gender = df[['Survived', 'Sex']]\n",
        "print(\"\\nSurvived and Gender DataFrame:\")\n",
        "print(survived_gender.head())  # Print the first 5 rows\n",
        "\n",
        "# Sort the 'survived_gender' DataFrame by Survived (ascending) and then by Sex (ascending)\n",
        "survived_gender_sorted = survived_gender.sort_values(by=['Survived', 'Sex'], ascending=[True, True])\n",
        "print(\"\\nSorted Survived and Gender DataFrame (By Survived and Sex):\")\n",
        "print(survived_gender_sorted.head())\n"
      ],
      "metadata": {
        "colab": {
          "base_uri": "https://localhost:8080/"
        },
        "id": "6MH1wR4d29iQ",
        "outputId": "2145ca80-241e-49f1-cc0f-533910a86575"
      },
      "execution_count": null,
      "outputs": [
        {
          "output_type": "stream",
          "name": "stdout",
          "text": [
            "Fare DataFrame:\n",
            "      Fare\n",
            "0   7.2500\n",
            "1  71.2833\n",
            "2   7.9250\n",
            "3  53.1000\n",
            "4   8.0500\n",
            "\n",
            "Sorted Fare DataFrame (Descending Order):\n",
            "         Fare\n",
            "258  512.3292\n",
            "737  512.3292\n",
            "679  512.3292\n",
            "88   263.0000\n",
            "27   263.0000\n",
            "\n",
            "Class and Age DataFrame:\n",
            "   Pclass   Age\n",
            "0       3  22.0\n",
            "1       1  38.0\n",
            "2       3  26.0\n",
            "3       1  35.0\n",
            "4       3  35.0\n",
            "\n",
            "Sorted Class and Age DataFrame (By Age Ascending):\n",
            "     Pclass   Age\n",
            "803       3  0.42\n",
            "755       2  0.67\n",
            "644       3  0.75\n",
            "469       3  0.75\n",
            "78        2  0.83\n",
            "\n",
            "Survived and Gender DataFrame:\n",
            "   Survived     Sex\n",
            "0         0    male\n",
            "1         1  female\n",
            "2         1  female\n",
            "3         1  female\n",
            "4         0    male\n",
            "\n",
            "Sorted Survived and Gender DataFrame (By Survived and Sex):\n",
            "    Survived     Sex\n",
            "14         0  female\n",
            "18         0  female\n",
            "24         0  female\n",
            "38         0  female\n",
            "40         0  female\n"
          ]
        }
      ]
    },
    {
      "cell_type": "markdown",
      "source": [
        "Problem-2\n",
        "\n",
        "Subsetting Rows:\n",
        "1. Filter the Titanic dataset for cases where the passenger’s fare is greater than 100, assigning it\n",
        "to fare gt 100.View the printed result.\n",
        "2. Filter the Titanic dataset for cases where the passenger’s class (Pclass) is 1, assigning it to\n",
        "first class.View the printed result.\n",
        "3. Filter the Titanic dataset for cases where the passenger’s age is less than 18 and the passenger\n",
        "is female (Sex is \"female\"), assigning it to female under 18. View the printed result."
      ],
      "metadata": {
        "id": "NO7YGg1t8lG6"
      }
    },
    {
      "cell_type": "code",
      "source": [
        "import pandas as pd\n",
        "\n",
        "df = pd.read_csv('/content/drive/MyDrive/Datasets/Titanic-Dataset.csv')\n",
        "\n",
        "# 1. Filter the Titanic dataset for cases where the passenger’s fare is greater than 100\n",
        "fare_gt_100 = df[df['Fare'] > 100]\n",
        "print(\"\\nPassengers with Fare greater than 100:\")\n",
        "print(fare_gt_100.head())  # Displaying the first 5 rows for preview\n",
        "\n",
        "# 2. Filter the Titanic dataset for cases where the passenger’s class (Pclass) is 1 (First Class)\n",
        "first_class = df[df['Pclass'] == 1]\n",
        "print(\"\\nPassengers in First Class (Pclass = 1):\")\n",
        "print(first_class.head())  # Displaying the first 5 rows for preview\n",
        "\n",
        "# 3. Filter the Titanic dataset for cases where the passenger’s age is less than 18 and the passenger is female\n",
        "female_under_18 = df[(df['Age'] < 18) & (df['Sex'] == 'female')]\n",
        "print(\"\\nFemale passengers under 18:\")\n",
        "print(female_under_18.head())  # Displaying the first 5 rows for preview\n"
      ],
      "metadata": {
        "colab": {
          "base_uri": "https://localhost:8080/"
        },
        "id": "xcwuhJUM9lzV",
        "outputId": "773c20af-8594-4f47-e884-a67e6e6395c5"
      },
      "execution_count": null,
      "outputs": [
        {
          "output_type": "stream",
          "name": "stdout",
          "text": [
            "\n",
            "Passengers with Fare greater than 100:\n",
            "     PassengerId  Survived  Pclass  \\\n",
            "27            28         0       1   \n",
            "31            32         1       1   \n",
            "88            89         1       1   \n",
            "118          119         0       1   \n",
            "195          196         1       1   \n",
            "\n",
            "                                               Name     Sex   Age  SibSp  \\\n",
            "27                   Fortune, Mr. Charles Alexander    male  19.0      3   \n",
            "31   Spencer, Mrs. William Augustus (Marie Eugenie)  female   NaN      1   \n",
            "88                       Fortune, Miss. Mabel Helen  female  23.0      3   \n",
            "118                        Baxter, Mr. Quigg Edmond    male  24.0      0   \n",
            "195                            Lurette, Miss. Elise  female  58.0      0   \n",
            "\n",
            "     Parch    Ticket      Fare        Cabin Embarked  \n",
            "27       2     19950  263.0000  C23 C25 C27        S  \n",
            "31       0  PC 17569  146.5208          B78        C  \n",
            "88       2     19950  263.0000  C23 C25 C27        S  \n",
            "118      1  PC 17558  247.5208      B58 B60        C  \n",
            "195      0  PC 17569  146.5208          B80        C  \n",
            "\n",
            "Passengers in First Class (Pclass = 1):\n",
            "    PassengerId  Survived  Pclass  \\\n",
            "1             2         1       1   \n",
            "3             4         1       1   \n",
            "6             7         0       1   \n",
            "11           12         1       1   \n",
            "23           24         1       1   \n",
            "\n",
            "                                                 Name     Sex   Age  SibSp  \\\n",
            "1   Cumings, Mrs. John Bradley (Florence Briggs Th...  female  38.0      1   \n",
            "3        Futrelle, Mrs. Jacques Heath (Lily May Peel)  female  35.0      1   \n",
            "6                             McCarthy, Mr. Timothy J    male  54.0      0   \n",
            "11                           Bonnell, Miss. Elizabeth  female  58.0      0   \n",
            "23                       Sloper, Mr. William Thompson    male  28.0      0   \n",
            "\n",
            "    Parch    Ticket     Fare Cabin Embarked  \n",
            "1       0  PC 17599  71.2833   C85        C  \n",
            "3       0    113803  53.1000  C123        S  \n",
            "6       0     17463  51.8625   E46        S  \n",
            "11      0    113783  26.5500  C103        S  \n",
            "23      0    113788  35.5000    A6        S  \n",
            "\n",
            "Female passengers under 18:\n",
            "    PassengerId  Survived  Pclass                                  Name  \\\n",
            "9            10         1       2   Nasser, Mrs. Nicholas (Adele Achem)   \n",
            "10           11         1       3       Sandstrom, Miss. Marguerite Rut   \n",
            "14           15         0       3  Vestrom, Miss. Hulda Amanda Adolfina   \n",
            "22           23         1       3           McGowan, Miss. Anna \"Annie\"   \n",
            "24           25         0       3         Palsson, Miss. Torborg Danira   \n",
            "\n",
            "       Sex   Age  SibSp  Parch   Ticket     Fare Cabin Embarked  \n",
            "9   female  14.0      1      0   237736  30.0708   NaN        C  \n",
            "10  female   4.0      1      1  PP 9549  16.7000    G6        S  \n",
            "14  female  14.0      0      0   350406   7.8542   NaN        S  \n",
            "22  female  15.0      0      0   330923   8.0292   NaN        Q  \n",
            "24  female   8.0      3      1   349909  21.0750   NaN        S  \n"
          ]
        }
      ]
    },
    {
      "cell_type": "markdown",
      "source": [
        "Subsetting Rows by Categorical variables:\n",
        "1. Filter the Titanic dataset for passengers whose Embarked port is either \"C\" (Cherbourg) or \"S\"\n",
        "(Southampton), assigning the result to embarked c or s. View the printed result.\n",
        "2. Filter the Titanic dataset for passengers whose Pclass is in the list [1, 2] (indicating first\n",
        "or second class), assigning the result to first second class.View the printed result."
      ],
      "metadata": {
        "id": "zDo0wKQg-MWU"
      }
    },
    {
      "cell_type": "code",
      "source": [
        "import pandas as pd\n",
        "\n",
        "# Load the Titanic dataset into a pandas DataFrame\n",
        "df = pd.read_csv('/content/drive/MyDrive/Datasets/Titanic-Dataset.csv')\n",
        "\n",
        "# 1. Filter the Titanic dataset for passengers whose Embarked port is either \"C\" (Cherbourg) or \"S\" (Southampton)\n",
        "embarked_c_or_s = df[df['Embarked'].isin(['C', 'S'])]\n",
        "print(\"\\nPassengers with Embarked port 'C' (Cherbourg) or 'S' (Southampton):\")\n",
        "print(embarked_c_or_s.head())  # Displaying the first 5 rows for preview\n",
        "\n",
        "# 2. Filter the Titanic dataset for passengers whose Pclass is in the list [1, 2] (First or Second Class)\n",
        "first_second_class = df[df['Pclass'].isin([1, 2])]\n",
        "print(\"\\nPassengers in First or Second Class (Pclass = 1 or 2):\")\n",
        "print(first_second_class.head())  # Displaying the first 5 rows for preview\n"
      ],
      "metadata": {
        "colab": {
          "base_uri": "https://localhost:8080/"
        },
        "id": "2BEs1a_C-TEY",
        "outputId": "bfc6c239-4942-4294-bf77-6952540c42fd"
      },
      "execution_count": null,
      "outputs": [
        {
          "output_type": "stream",
          "name": "stdout",
          "text": [
            "\n",
            "Passengers with Embarked port 'C' (Cherbourg) or 'S' (Southampton):\n",
            "   PassengerId  Survived  Pclass  \\\n",
            "0            1         0       3   \n",
            "1            2         1       1   \n",
            "2            3         1       3   \n",
            "3            4         1       1   \n",
            "4            5         0       3   \n",
            "\n",
            "                                                Name     Sex   Age  SibSp  \\\n",
            "0                            Braund, Mr. Owen Harris    male  22.0      1   \n",
            "1  Cumings, Mrs. John Bradley (Florence Briggs Th...  female  38.0      1   \n",
            "2                             Heikkinen, Miss. Laina  female  26.0      0   \n",
            "3       Futrelle, Mrs. Jacques Heath (Lily May Peel)  female  35.0      1   \n",
            "4                           Allen, Mr. William Henry    male  35.0      0   \n",
            "\n",
            "   Parch            Ticket     Fare Cabin Embarked  \n",
            "0      0         A/5 21171   7.2500   NaN        S  \n",
            "1      0          PC 17599  71.2833   C85        C  \n",
            "2      0  STON/O2. 3101282   7.9250   NaN        S  \n",
            "3      0            113803  53.1000  C123        S  \n",
            "4      0            373450   8.0500   NaN        S  \n",
            "\n",
            "Passengers in First or Second Class (Pclass = 1 or 2):\n",
            "    PassengerId  Survived  Pclass  \\\n",
            "1             2         1       1   \n",
            "3             4         1       1   \n",
            "6             7         0       1   \n",
            "9            10         1       2   \n",
            "11           12         1       1   \n",
            "\n",
            "                                                 Name     Sex   Age  SibSp  \\\n",
            "1   Cumings, Mrs. John Bradley (Florence Briggs Th...  female  38.0      1   \n",
            "3        Futrelle, Mrs. Jacques Heath (Lily May Peel)  female  35.0      1   \n",
            "6                             McCarthy, Mr. Timothy J    male  54.0      0   \n",
            "9                 Nasser, Mrs. Nicholas (Adele Achem)  female  14.0      1   \n",
            "11                           Bonnell, Miss. Elizabeth  female  58.0      0   \n",
            "\n",
            "    Parch    Ticket     Fare Cabin Embarked  \n",
            "1       0  PC 17599  71.2833   C85        C  \n",
            "3       0    113803  53.1000  C123        S  \n",
            "6       0     17463  51.8625   E46        S  \n",
            "9       0    237736  30.0708   NaN        C  \n",
            "11      0    113783  26.5500  C103        S  \n"
          ]
        }
      ]
    },
    {
      "cell_type": "markdown",
      "source": [
        "3.2 Exploratory Data Analysis Practice\n",
        "\n",
        "Which passenger had the highest fare paid relative to their age?\n",
        "\n",
        "To answer the question perform following operations:\n",
        "1. Add a column to the Titanic dataset, fare per year, containing the fare divided by the age of\n",
        "the passenger(i.e., Fare/Age).\n",
        "2. Subset rows where fare per year is higher than 5, assigning this to high fare age.\n",
        "3. Sort high fare age by descending fare per year, assigning this to high fare age srt.\n",
        "4. Select only the Name and fare per year columns of high fare age srt and save the result as result.\n",
        "5. Look at the result."
      ],
      "metadata": {
        "id": "kgyPK0wY_Nvw"
      }
    },
    {
      "cell_type": "code",
      "source": [
        "import pandas as pd\n",
        "\n",
        "# Load the Titanic dataset\n",
        "df = pd.read_csv('/content/drive/MyDrive/Datasets/Titanic-Dataset.csv')\n",
        "\n",
        "# Step 1: Add a column 'fare per year', which is the Fare divided by Age\n",
        "df['fare per year'] = df['Fare'] / df['Age']\n",
        "\n",
        "# Step 2: Subset rows where fare per year is higher than 5\n",
        "high_fare_age = df[df['fare per year'] > 5]\n",
        "\n",
        "# Step 3: Sort high_fare_age by descending fare per year\n",
        "high_fare_age_srt = high_fare_age.sort_values(by='fare per year', ascending=False)\n",
        "\n",
        "# Step 4: Select only the Name and fare per year columns\n",
        "result = high_fare_age_srt[['Name', 'fare per year']]\n",
        "\n",
        "# Step 5: View the result\n",
        "print(result.head())  # Displaying the first few rows of the result\n"
      ],
      "metadata": {
        "colab": {
          "base_uri": "https://localhost:8080/"
        },
        "id": "plSixYrD_lzB",
        "outputId": "aa041858-cf57-47d9-860f-b65e8ea8e255"
      },
      "execution_count": null,
      "outputs": [
        {
          "output_type": "stream",
          "name": "stdout",
          "text": [
            "                                Name  fare per year\n",
            "305   Allison, Master. Hudson Trevor     164.728261\n",
            "297     Allison, Miss. Helen Loraine      75.775000\n",
            "386  Goodwin, Master. Sidney Leonard      46.900000\n",
            "164     Panula, Master. Eino Viljami      39.687500\n",
            "183        Becker, Master. Richard F      39.000000\n"
          ]
        }
      ]
    },
    {
      "cell_type": "markdown",
      "source": [
        "Which adult male passenger (age ≥ 18 and Sex is ’male’) paid the highest fare relative to their\n",
        "class?\n",
        "To answer the question perform following operations:\n",
        "1. Add a column to the Titanic dataset, fare per class, containing the fare divided by the passenger\n",
        "class i.e. Fare / Pclass.\n",
        "2. Subset rows where the passenger is male (Sex is ”male”) and an adult (Age is greater than or equal\n",
        "to 18), assigning this to adult males.\n",
        "3. Sort adult males by descending fare per class, assigning this to adult males srt.\n",
        "4. Select only the Name, Age, and fare per class columns of adult males sr and save the result\n",
        "as result.\n",
        "5. Look at the result."
      ],
      "metadata": {
        "id": "8Qgeu04DBOxV"
      }
    },
    {
      "cell_type": "code",
      "source": [
        "import pandas as pd\n",
        "\n",
        "# Load the Titanic dataset\n",
        "df = pd.read_csv('/content/drive/MyDrive/Datasets/Titanic-Dataset.csv')\n",
        "\n",
        "# Step 1: Add a new column 'fare per class' which is Fare divided by Pclass\n",
        "df['fare per class'] = df['Fare'] / df['Pclass']\n",
        "\n",
        "# Step 2: Subset rows where the passenger is male and an adult (Age >= 18)\n",
        "adult_males = df[(df['Sex'] == 'male') & (df['Age'] >= 18)]\n",
        "\n",
        "# Step 3: Sort adult males by descending 'fare per class'\n",
        "adult_males_srt = adult_males.sort_values(by='fare per class', ascending=False)\n",
        "\n",
        "# Step 4: Select only the 'Name', 'Age', and 'fare per class' columns\n",
        "result = adult_males_srt[['Name', 'Age', 'fare per class']]\n",
        "\n",
        "# Step 5: View the result\n",
        "print(result.head())  # Display the first few rows of the result\n"
      ],
      "metadata": {
        "colab": {
          "base_uri": "https://localhost:8080/"
        },
        "id": "ifurlyG1BZCn",
        "outputId": "2d064c24-56b6-47ae-ede2-9450de78179b"
      },
      "execution_count": null,
      "outputs": [
        {
          "output_type": "stream",
          "name": "stdout",
          "text": [
            "                                   Name   Age  fare per class\n",
            "737              Lesurer, Mr. Gustave J  35.0        512.3292\n",
            "679  Cardeza, Mr. Thomas Drake Martinez  36.0        512.3292\n",
            "27       Fortune, Mr. Charles Alexander  19.0        263.0000\n",
            "438                   Fortune, Mr. Mark  64.0        263.0000\n",
            "118            Baxter, Mr. Quigg Edmond  24.0        247.5208\n"
          ]
        }
      ]
    },
    {
      "cell_type": "markdown",
      "source": [
        "3.3 Exploratory Data Analysis with Group-by Method Practice Exercise:\n",
        "\n",
        "What percent of the total fare revenue came from each passenger class?\n",
        "\n",
        "To answer the question perform following operation:\n",
        "1. Calculate the total Fare paid across all passengers in the Titanic dataset.\n",
        "2. Subset for passengers in first class (Pclass is 1) and calculate their total fare.\n",
        "3. Do the same for second class (Pclass is 2) and third class (Pclass is 3).\n",
        "4. Combine the fare totals from first, second, and third classes into a list.\n",
        "5. Divide the totals for each class by the overall total fare to get the proportion of fare revenue by class."
      ],
      "metadata": {
        "id": "YJJVFyv3zetw"
      }
    },
    {
      "cell_type": "code",
      "source": [
        "import pandas as pd\n",
        "\n",
        "# Load the Titanic dataset\n",
        "df = pd.read_csv('/content/drive/MyDrive/Datasets/Titanic-Dataset.csv')\n",
        "\n",
        "# Step 1: Calculate the total fare paid across all passengers in the Titanic dataset\n",
        "total_fare = df['Fare'].sum()\n",
        "\n",
        "# Step 2: Subset for passengers in first class (Pclass = 1) and calculate their total fare\n",
        "fare_first_class = df[df['Pclass'] == 1]['Fare'].sum()\n",
        "\n",
        "# Step 3: Subset for passengers in second class (Pclass = 2) and calculate their total fare\n",
        "fare_second_class = df[df['Pclass'] == 2]['Fare'].sum()\n",
        "\n",
        "# Step 4: Subset for passengers in third class (Pclass = 3) and calculate their total fare\n",
        "fare_third_class = df[df['Pclass'] == 3]['Fare'].sum()\n",
        "\n",
        "# Step 5: Combine the fare totals from first, second, and third classes into a list\n",
        "class_fare_totals = [fare_first_class, fare_second_class, fare_third_class]\n",
        "\n",
        "# Step 6: Calculate the proportion of fare revenue from each class by dividing the class totals by the overall total fare\n",
        "class_fare_percentages = [(fare / total_fare) * 100 for fare in class_fare_totals]\n",
        "\n",
        "# Display the results\n",
        "class_labels = ['First Class', 'Second Class', 'Third Class']\n",
        "result = dict(zip(class_labels, class_fare_percentages))\n",
        "\n",
        "print(\"Percentage of total fare revenue from each class:\")\n",
        "for class_name, percentage in result.items():\n",
        "    print(f\"{class_name}: {percentage:.2f}%\")\n"
      ],
      "metadata": {
        "colab": {
          "base_uri": "https://localhost:8080/"
        },
        "id": "EOv4Ic4vzwfP",
        "outputId": "b3bb0f2a-3927-460e-c704-2845214f4b75"
      },
      "execution_count": null,
      "outputs": [
        {
          "output_type": "stream",
          "name": "stdout",
          "text": [
            "Percentage of total fare revenue from each class:\n",
            "First Class: 63.35%\n",
            "Second Class: 13.25%\n",
            "Third Class: 23.40%\n"
          ]
        }
      ]
    },
    {
      "cell_type": "markdown",
      "source": [
        "What percent of the total number of passengers on the Titanic belonged to each age group\n",
        "(e.g., child, adult, senior)?\n",
        "\n",
        "To answer the question perform following operation:\n",
        "1. Create a new column, age group, that categorizes passengers into \"child\" (age < 18), \"adult\" (age\n",
        "18{64), and \"senior\" (age 65 and above).\n",
        "2. Calculate the total number of passengers on the Titanic.\n",
        "3. Count the number of passengers in each age group.\n",
        "4. Divide the count of each age group by the total number of passengers to get the proportion of passengers\n",
        "in each age group.\n",
        "5. Display the proportion as a percentage."
      ],
      "metadata": {
        "id": "E2cIREcm0RiR"
      }
    },
    {
      "cell_type": "code",
      "source": [
        "import pandas as pd\n",
        "\n",
        "# Load the Titanic dataset\n",
        "df = pd.read_csv('/content/drive/MyDrive/Datasets/Titanic-Dataset.csv')\n",
        "\n",
        "# Step 1: Create a new column 'age group' based on the age of passengers\n",
        "def categorize_age(age):\n",
        "    if age < 18:\n",
        "        return 'child'\n",
        "    elif age >= 18 and age < 65:\n",
        "        return 'adult'\n",
        "    else:\n",
        "        return 'senior'\n",
        "\n",
        "df['age group'] = df['Age'].apply(categorize_age)\n",
        "\n",
        "# Step 2: Calculate the total number of passengers on the Titanic\n",
        "total_passengers = df['Age'].notnull().sum()  # Count only non-null age entries\n",
        "\n",
        "# Step 3: Count the number of passengers in each age group\n",
        "age_group_counts = df['age group'].value_counts()\n",
        "\n",
        "# Step 4: Calculate the proportion of passengers in each age group\n",
        "age_group_percentages = (age_group_counts / total_passengers) * 100\n",
        "\n",
        "# Step 5: Display the proportion as a percentage\n",
        "print(\"Percentage of passengers in each age group:\")\n",
        "for group, percentage in age_group_percentages.items():\n",
        "    print(f\"{group.capitalize()}: {percentage:.2f}%\")\n"
      ],
      "metadata": {
        "colab": {
          "base_uri": "https://localhost:8080/"
        },
        "id": "hhedqPg10b6H",
        "outputId": "cc9bbb1f-233a-47e1-8cbc-4f0441711856"
      },
      "execution_count": null,
      "outputs": [
        {
          "output_type": "stream",
          "name": "stdout",
          "text": [
            "Percentage of passengers in each age group:\n",
            "Adult: 82.63%\n",
            "Senior: 26.33%\n",
            "Child: 15.83%\n"
          ]
        }
      ]
    }
  ]
}